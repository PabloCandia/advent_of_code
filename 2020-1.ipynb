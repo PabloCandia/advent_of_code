{
 "cells": [
  {
   "cell_type": "code",
   "execution_count": 97,
   "metadata": {},
   "outputs": [
    {
     "name": "stdout",
     "output_type": "stream",
     "text": [
      "Enter the name of the bag:\n",
      "shiny gold\n",
      "Enter the name of the filename:\n",
      "example_str.txt\n",
      "\n",
      "\n",
      "Shiny gold bags are contained in 4 other bags.\n",
      "They must contain 32 bags.\n"
     ]
    }
   ],
   "source": [
    "def parse_rules(rule):\n",
    "    # This function parses each one of the rules as given by an enumeration of the contents of each bag\n",
    "    items = rule.split(', ')\n",
    "    return [item.split(' ')[0] for item in items], [\" \".join(item.split(' ')[1:-1]) for item in items]\n",
    "    \n",
    "def rule_dict(filename):\n",
    "    # This function that reads the file and creates a dictionary with the rules\n",
    "    rules = {}\n",
    "    with open(filename, \"r\") as file:\n",
    "        for line in file:\n",
    "            colour, rule = line.split(\" bags contain \")\n",
    "            numbers, contents = parse_rules(rule)\n",
    "            if numbers[0]==\"no\":\n",
    "                rules[colour] = 0\n",
    "            else:\n",
    "                rules[colour] = {}\n",
    "                for i,content in enumerate(contents):\n",
    "                    rules[colour][content] = int(numbers[i])\n",
    "    return rules\n",
    "\n",
    "def outer_bags(bag_colour,rules,filename):\n",
    "    # The colour we look for is specified by the variable 'bag_colour' on the first call\n",
    "    bag_list = []\n",
    "    for colour in rules:\n",
    "        if rules[colour]==0:\n",
    "            continue\n",
    "        else:\n",
    "            for content_colour in list(rules[colour].keys()):\n",
    "                if content_colour==bag_colour:\n",
    "                    bag_list.append(colour)\n",
    "                    bag_list+=outer_bags(colour,rules,filename)\n",
    "    return bag_list\n",
    "\n",
    "def inner_bags(bag_colour,rules,filename):\n",
    "    # The colour we look for is specified by the variable 'bag_colour' on the first call\n",
    "    bag_num = 0\n",
    "    for colour in rules:\n",
    "        if bag_colour==colour:\n",
    "            if rules[colour]==0:\n",
    "                return 0\n",
    "            else:\n",
    "                for content in rules[colour]:\n",
    "                    bag_num+=rules[colour][content]*(inner_bags(content,rules,filename)+1)\n",
    "    return bag_num\n",
    "\n",
    "if __name__ == \"__main__\":\n",
    "    print('Enter the name of the bag:')\n",
    "    bag_colour = input()\n",
    "    print('Enter the name of the filename:')\n",
    "    filename = input()\n",
    "    rules = rule_dict(filename)\n",
    "    part_1 = len(set(outer_bags(bag_colour,rules,filename)))\n",
    "    part_2 = inner_bags(bag_colour,rules,filename)\n",
    "    print(\"\\n\")\n",
    "    print(bag_colour.capitalize()+\" bags are contained in {} other bags.\".format(part_1))\n",
    "    print(\"They must contain {} bags.\".format(part_2))"
   ]
  },
  {
   "cell_type": "markdown",
   "metadata": {},
   "source": [
    "### Trying it out with the example and input files"
   ]
  },
  {
   "cell_type": "code",
   "execution_count": 98,
   "metadata": {},
   "outputs": [
    {
     "name": "stdout",
     "output_type": "stream",
     "text": [
      "4\n",
      "0\n",
      "242\n"
     ]
    }
   ],
   "source": [
    "for file in files:\n",
    "    rules = rule_dict(file)\n",
    "    print(len(set(outer_bags(\"shiny gold\",rules,file))))"
   ]
  },
  {
   "cell_type": "code",
   "execution_count": 99,
   "metadata": {},
   "outputs": [
    {
     "name": "stdout",
     "output_type": "stream",
     "text": [
      "32\n",
      "126\n",
      "176035\n"
     ]
    }
   ],
   "source": [
    "files = [\"example_str.txt\",\"example_str2.txt\",\"input.txt\"]\n",
    "for file in files:\n",
    "    rules = rule_dict(file)\n",
    "    print(inner_bags(\"shiny gold\",rules,file))"
   ]
  }
 ],
 "metadata": {
  "kernelspec": {
   "display_name": "Python 3",
   "language": "python",
   "name": "python3"
  },
  "language_info": {
   "codemirror_mode": {
    "name": "ipython",
    "version": 3
   },
   "file_extension": ".py",
   "mimetype": "text/x-python",
   "name": "python",
   "nbconvert_exporter": "python",
   "pygments_lexer": "ipython3",
   "version": "3.7.3"
  }
 },
 "nbformat": 4,
 "nbformat_minor": 2
}
